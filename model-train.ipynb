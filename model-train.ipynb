{
 "cells": [
  {
   "cell_type": "code",
   "execution_count": 11,
   "metadata": {},
   "outputs": [],
   "source": [
    "from sklearn.datasets import fetch_openml\n",
    "mnist = fetch_openml('mnist_784', as_frame=False)"
   ]
  },
  {
   "cell_type": "code",
   "execution_count": 12,
   "metadata": {},
   "outputs": [],
   "source": [
    "X, y = mnist.data, mnist.target"
   ]
  },
  {
   "cell_type": "code",
   "execution_count": 14,
   "metadata": {},
   "outputs": [
    {
     "data": {
      "text/plain": [
       "(70000, 784)"
      ]
     },
     "execution_count": 14,
     "metadata": {},
     "output_type": "execute_result"
    }
   ],
   "source": [
    "X.shape"
   ]
  },
  {
   "cell_type": "code",
   "execution_count": 15,
   "metadata": {},
   "outputs": [
    {
     "data": {
      "text/plain": [
       "(70000,)"
      ]
     },
     "execution_count": 15,
     "metadata": {},
     "output_type": "execute_result"
    }
   ],
   "source": [
    "y.shape"
   ]
  },
  {
   "cell_type": "code",
   "execution_count": 17,
   "metadata": {},
   "outputs": [
    {
     "data": {
      "image/png": "[encoded data removed]",
      "text/plain": [
       "<Figure size 640x480 with 1 Axes>"
      ]
     },
     "metadata": {},
     "output_type": "display_data"
    },
    {
     "data": {
      "text/plain": [
       "'5'"
      ]
     },
     "execution_count": 17,
     "metadata": {},
     "output_type": "execute_result"
    }
   ],
   "source": [
    "import matplotlib.pyplot as plt\n",
    "\n",
    "def plot_digit(image_data):\n",
    "    image = image_data.reshape(28, 28)\n",
    "    plt.imshow(image, cmap = 'binary')\n",
    "    plt.axis('off')\n",
    "\n",
    "some_digit = X[0]\n",
    "plot_digit(some_digit)\n",
    "plt.show()\n",
    "y[0]"
   ]
  },
  {
   "cell_type": "code",
   "execution_count": 25,
   "metadata": {},
   "outputs": [],
   "source": [
    "n = 60000\n",
    "X_train, X_test, y_train, y_test = X[:n], X[n:], y[:n], y[n:]"
   ]
  },
  {
   "cell_type": "code",
   "execution_count": 46,
   "metadata": {},
   "outputs": [],
   "source": [
    "# Data Augmentation \n",
    "\n",
    "from scipy.ndimage import shift\n",
    "import numpy as np\n",
    "\n",
    "def shift_image(image, dx, dy):\n",
    "    return shift(image.reshape((28, 28)), [dy, dx], cval=0, mode='constant').reshape([-1])\n",
    "\n",
    "shifts_to_make = [(0, 1), (1, 0), (0, -1), (-1, 0)]\n",
    "\n",
    "X_train_aug = [image for image in X_train]  \n",
    "y_train_aug = [label for label in y_train] \n",
    "\n",
    "for dx, dy in shifts_to_make:\n",
    "    for image, label in zip(X_train, y_train):\n",
    "        X_train_aug.append(shift_image(image, dx, dy))  \n",
    "        y_train_aug.append(label)  \n",
    "\n",
    "X_train_aug = np.array(X_train_aug)\n",
    "y_train_aug = np.array(y_train_aug)"
   ]
  },
  {
   "cell_type": "code",
   "execution_count": 48,
   "metadata": {},
   "outputs": [
    {
     "name": "stdout",
     "output_type": "stream",
     "text": [
      "Training RandomForest...\n"
     ]
    }
   ],
   "source": [
    "# Modelling \n",
    "\n",
    "from sklearn.ensemble import RandomForestClassifier, GradientBoostingClassifier\n",
    "from sklearn.metrics import classification_report\n",
    "from sklearn.svm import SVC\n",
    "from sklearn.neighbors import KNeighborsClassifier\n",
    "from sklearn.tree import DecisionTreeClassifier\n",
    "\n",
    "models = { \n",
    "    \"RandomForest\": RandomForestClassifier(),\n",
    "    \"GradientBoosting\": GradientBoostingClassifier(),\n",
    "    \"SVC\": SVC(),\n",
    "    \"KNN\": KNeighborsClassifier(),\n",
    "    \"DecisionTree\": DecisionTreeClassifier()\n",
    "}\n",
    "\n",
    "classification_reports = {}\n",
    "\n",
    "for name, model in models.items():\n",
    "    print(f\"Training {name}...\")\n",
    "    model.fit(X_train_aug, y_train_aug) \n",
    "    y_pred = model.predict(X_test) \n",
    "    print(f\"Evaluating {name}...\")\n",
    "    report = classification_report(y_test, y_pred, output_dict=True)\n",
    "    classification_reports[name] = report\n",
    "    print(f\"Classification report for {name}:\\n{report}\")"
   ]
  }
 ],
 "metadata": {
  "kernelspec": {
   "display_name": "python-env",
   "language": "python",
   "name": "python3"
  },
  "language_info": {
   "codemirror_mode": {
    "name": "ipython",
    "version": 3
   },
   "file_extension": ".py",
   "mimetype": "text/x-python",
   "name": "python",
   "nbconvert_exporter": "python",
   "pygments_lexer": "ipython3",
   "version": "3.11.4"
  },
  "orig_nbformat": 4
 },
 "nbformat": 4,
 "nbformat_minor": 2
}
