{
  "cells": [
    {
      "cell_type": "code",
      "execution_count": 1,
      "metadata": {
        "id": "X2uyouueNs3J",
        "outputId": "5555d2a0-cf9a-4eaa-8d79-19caf34da30b",
        "colab": {
          "base_uri": "https://localhost:8080/"
        }
      },
      "outputs": [
        {
          "output_type": "stream",
          "name": "stderr",
          "text": [
            "/usr/local/lib/python3.10/dist-packages/sklearn/datasets/_openml.py:968: FutureWarning: The default value of `parser` will change from `'liac-arff'` to `'auto'` in 1.4. You can set `parser='auto'` to silence this warning. Therefore, an `ImportError` will be raised from 1.4 if the dataset is dense and pandas is not installed. Note that the pandas parser may return different data types. See the Notes Section in fetch_openml's API doc for details.\n",
            "  warn(\n"
          ]
        }
      ],
      "source": [
        "from sklearn.datasets import fetch_openml\n",
        "mnist = fetch_openml('mnist_784', as_frame=False)"
      ]
    },
    {
      "cell_type": "code",
      "execution_count": 2,
      "metadata": {
        "id": "EOHfmIbwNs3L"
      },
      "outputs": [],
      "source": [
        "X, y = mnist.data, mnist.target"
      ]
    },
    {
      "cell_type": "code",
      "execution_count": 3,
      "metadata": {
        "id": "d9E4KQJsNs3L",
        "outputId": "b6ba6752-8186-4313-a448-0e2396e44840",
        "colab": {
          "base_uri": "https://localhost:8080/"
        }
      },
      "outputs": [
        {
          "output_type": "execute_result",
          "data": {
            "text/plain": [
              "(70000, 784)"
            ]
          },
          "metadata": {},
          "execution_count": 3
        }
      ],
      "source": [
        "X.shape"
      ]
    },
    {
      "cell_type": "code",
      "execution_count": 4,
      "metadata": {
        "id": "gBCN-Lv0Ns3L",
        "outputId": "3d64b580-95a5-43f4-c5c7-c6573fbc591c",
        "colab": {
          "base_uri": "https://localhost:8080/"
        }
      },
      "outputs": [
        {
          "output_type": "execute_result",
          "data": {
            "text/plain": [
              "(70000,)"
            ]
          },
          "metadata": {},
          "execution_count": 4
        }
      ],
      "source": [
        "y.shape"
      ]
    },
    {
      "cell_type": "code",
      "execution_count": 5,
      "metadata": {
        "id": "xXUSfXoDNs3M",
        "outputId": "ddd6815e-f373-45fc-8f12-bbfa07266d0f",
        "colab": {
          "base_uri": "https://localhost:8080/",
          "height": 424
        }
      },
      "outputs": [
        {
          "output_type": "display_data",
          "data": {
            "text/plain": [
              "<Figure size 640x480 with 1 Axes>"
            ],
            "image/png": "[encoded data removed]"
          },
          "metadata": {}
        },
        {
          "output_type": "execute_result",
          "data": {
            "text/plain": [
              "'5'"
            ],
            "application/vnd.google.colaboratory.intrinsic+json": {
              "type": "string"
            }
          },
          "metadata": {},
          "execution_count": 5
        }
      ],
      "source": [
        "import matplotlib.pyplot as plt\n",
        "\n",
        "def plot_digit(image_data):\n",
        "    image = image_data.reshape(28, 28)\n",
        "    plt.imshow(image, cmap = 'binary')\n",
        "    plt.axis('off')\n",
        "\n",
        "some_digit = X[0]\n",
        "plot_digit(some_digit)\n",
        "plt.show()\n",
        "y[0]"
      ]
    },
    {
      "cell_type": "code",
      "execution_count": 6,
      "metadata": {
        "id": "fSSD5XBqNs3M"
      },
      "outputs": [],
      "source": [
        "n = 60000\n",
        "X_train, X_test, y_train, y_test = X[:n], X[n:], y[:n], y[n:]"
      ]
    },
    {
      "cell_type": "code",
      "execution_count": 7,
      "metadata": {
        "id": "QlxgfAg7Ns3M"
      },
      "outputs": [],
      "source": [
        "# Data Augmentation\n",
        "\n",
        "from scipy.ndimage import shift\n",
        "import numpy as np\n",
        "\n",
        "def shift_image(image, dx, dy):\n",
        "    return shift(image.reshape((28, 28)), [dy, dx], cval=0, mode='constant').reshape([-1])\n",
        "\n",
        "shifts_to_make = [(0, 1), (1, 0), (0, -1), (-1, 0)]\n",
        "\n",
        "X_train_aug = [image for image in X_train]\n",
        "y_train_aug = [label for label in y_train]\n",
        "\n",
        "for dx, dy in shifts_to_make:\n",
        "    for image, label in zip(X_train, y_train):\n",
        "        X_train_aug.append(shift_image(image, dx, dy))\n",
        "        y_train_aug.append(label)\n",
        "\n",
        "X_train_aug = np.array(X_train_aug)\n",
        "y_train_aug = np.array(y_train_aug)"
      ]
    },
    {
      "cell_type": "code",
      "execution_count": 8,
      "metadata": {
        "id": "XhXupGTcNs3M"
      },
      "outputs": [],
      "source": [
        "shuffle_idx = np.random.permutation(len(X_train_aug))\n",
        "X_train_augmented = np.array(X_train_aug)[shuffle_idx]\n",
        "y_train_augmented = np.array(y_train_aug)[shuffle_idx]"
      ]
    },
    {
      "cell_type": "code",
      "execution_count": null,
      "metadata": {
        "id": "7Q2r107UNs3N",
        "outputId": "d88f3dec-6fb5-4758-d40b-35e9577cc0c4",
        "colab": {
          "base_uri": "https://localhost:8080/"
        }
      },
      "outputs": [
        {
          "output_type": "stream",
          "name": "stdout",
          "text": [
            "Training RandomForest...\n"
          ]
        }
      ],
      "source": [
        "# Modelling\n",
        "\n",
        "from sklearn.ensemble import RandomForestClassifier, GradientBoostingClassifier\n",
        "from sklearn.metrics import classification_report\n",
        "from sklearn.svm import SVC\n",
        "from sklearn.neighbors import KNeighborsClassifier\n",
        "from sklearn.tree import DecisionTreeClassifier\n",
        "\n",
        "models = {\n",
        "    \"RandomForest\": RandomForestClassifier(),\n",
        "    \"GradientBoosting\": GradientBoostingClassifier(),\n",
        "    \"SVC\": SVC(),\n",
        "    \"KNN\": KNeighborsClassifier(),\n",
        "    \"DecisionTree\": DecisionTreeClassifier()\n",
        "}\n",
        "\n",
        "classification_reports = {}\n",
        "\n",
        "for name, model in models.items():\n",
        "    print(f\"Training {name}...\")\n",
        "    model.fit(X_train_aug, y_train_aug)\n",
        "    y_pred = model.predict(X_test)\n",
        "    print(f\"Evaluating {name}...\")\n",
        "    report = classification_report(y_test, y_pred, output_dict=True)\n",
        "    classification_reports[name] = report\n",
        "    print(f\"Classification report for {name}:\\n{report}\")"
      ]
    },
    {
      "cell_type": "code",
      "source": [
        "import pandas as pd\n",
        "import seaborn as sns\n",
        "import matplotlib.pyplot as plt\n",
        "\n",
        "metrics = ['accuracy', 'precision', 'recall', 'f1-score']\n",
        "df_metrics = pd.DataFrame()\n",
        "\n",
        "for model_name, report in classification_reports.items():\n",
        "    # Extract metrics for each model. Using 'weighted avg' accounts for class imbalance by weighting metrics according to class support.\n",
        "    data = {\n",
        "        'Model': model_name,\n",
        "        'Accuracy': report.get('accuracy', None),\n",
        "        'Precision': report['weighted avg']['precision'],\n",
        "        'Recall': report['weighted avg']['recall'],\n",
        "        'F1-Score': report['weighted avg']['f1-score']\n",
        "    }\n",
        "    df_metrics = df_metrics.append(data, ignore_index=True)\n",
        "\n",
        "df_melted = df_metrics.melt(id_vars='Model', var_name='Metric', value_name='Score')\n",
        "\n",
        "plt.figure(figsize=(14, 8))\n",
        "sns.barplot(x='Metric', y='Score', hue='Model', data=df_melted)\n",
        "plt.title('Comparison of Model Metrics')\n",
        "plt.ylabel('Score')\n",
        "plt.ylim(0, 1)\n",
        "plt.legend(title='Model', bbox_to_anchor=(1.05, 1), loc='upper left')\n",
        "plt.tight_layout()\n",
        "plt.show()"
      ],
      "metadata": {
        "id": "QAWhZZKVP1VJ"
      },
      "execution_count": null,
      "outputs": []
    }
  ],
  "metadata": {
    "kernelspec": {
      "display_name": "python-env",
      "language": "python",
      "name": "python3"
    },
    "language_info": {
      "codemirror_mode": {
        "name": "ipython",
        "version": 3
      },
      "file_extension": ".py",
      "mimetype": "text/x-python",
      "name": "python",
      "nbconvert_exporter": "python",
      "pygments_lexer": "ipython3",
      "version": "3.11.4"
    },
    "orig_nbformat": 4,
    "colab": {
      "provenance": []
    }
  },
  "nbformat": 4,
  "nbformat_minor": 0
}